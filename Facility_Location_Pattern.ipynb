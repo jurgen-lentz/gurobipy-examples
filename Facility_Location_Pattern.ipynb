{
 "cells": [
  {
   "cell_type": "markdown",
   "id": "bulgarian-guide",
   "metadata": {},
   "source": [
    "# Facility Location with patterns\n",
    "\n",
    "In this task you need to solve the Facility Location Problem using patterns. \n",
    "You are given the following data:\n",
    "\n",
    "* a range $I$ containing the potential locations where a facility can be opened\n",
    "* a range $J$ containing the customers\n",
    "* a tuple $b$ containing the customer demands $b_{j} \\in \\mathbb{Z}_{+}$ for every $j \\in J$\n",
    "* a tuple $f$ containing the opening costs $f_{i} \\in \\mathbb{Z}_{+}$ for each location $i \\in I$\n",
    "* a tuple $C$ containing the capacities $C_{i} \\in \\mathbb{Z}_{+}$ for each location $i \\in I$\n",
    "* a dictionary $c$ containing the connection costs $c_{i, j}$ for connecting facitily $i \\in I$ with customer $j \\in J$\n",
    "* a tuple $P$ containing the power set of $J$\n",
    "\n",
    "Your task is to find a feasible assignment of customers to facilities of minimum total cost, such that:\n",
    "\n",
    "* every customer is assigned to exactly one opened facility\n",
    "* total demand of all customers assigned to a facility $i \\in I$ is at most its capacity $C_{i}$\n",
    "\n",
    "The binary variable $l_{i, p}$ equals to $1$ if the subset of customers $p \\subseteq J$ is assigned to the facility $i \\in I$, otherwise $l_{i, p}$ equals to $0$."
   ]
  },
  {
   "cell_type": "markdown",
   "id": "reserved-insured",
   "metadata": {},
   "source": [
    "For facility $i \\in I$ let $\\mathscr{P}^{i}$ the set of all \"patterns\", i.e. $\\mathscr{P}^{i}$ equals the power set of $J$. We define the costs $c_{P}^{i}$ of pattern $P \\in \\mathscr{P}^{i}$ for facility $i \\in I$ by\n",
    "$$c_{P}^{i} := \\left\\{\\begin{array}{ll} f_{i} + \\sum_{j \\in P}{c_{ij}}, & \\text{if } P \\not = \\emptyset \\\\\n",
    "         0, & \\text{if } P = \\emptyset \\end{array}\\right. .$$\n"
   ]
  },
  {
   "cell_type": "code",
   "execution_count": 11,
   "id": "numeric-portable",
   "metadata": {},
   "outputs": [],
   "source": [
    "from gurobipy import *\n",
    "from itertools import chain, combinations"
   ]
  },
  {
   "cell_type": "code",
   "execution_count": 12,
   "id": "analyzed-metadata",
   "metadata": {},
   "outputs": [],
   "source": [
    "# The set of potential locations where a facility can be opened\n",
    "I = range(3)\n",
    "\n",
    "# The set of customers\n",
    "J = range(5)\n",
    "\n",
    "# Customer demands\n",
    "b = (5, 7, 10, 14, 11)\n",
    "\n",
    "# Opening costs\n",
    "f = (5, 11, 9)\n",
    "\n",
    "# Facility capacities\n",
    "C = (10, 20, 20)\n",
    "\n",
    "# Connection costs\n",
    "c = {(0, 0): 2, (0, 1): 7, (0, 2): 7, (0, 3): 8, (0, 4): 8, (1, 0): 7,\n",
    "  (1, 1): 2, (1, 2): 4, (1, 3): 7, (1, 4): 2, (2, 0): 2, (2, 1): 2,\n",
    "  (2, 2): 2, (2, 3): 4, (2, 4): 8}\n",
    "\n",
    "# The set of all patterns\n",
    "P = tuple(chain.from_iterable(combinations(J, r) for r in range(len(J)+1)))\n",
    "\n",
    "# Sanity checks\n",
    "assert(len(J) == len(b))\n",
    "assert(len(I) == len(f) == len(C))\n",
    "assert(len(c) == len(I) * len(J))"
   ]
  },
  {
   "cell_type": "code",
   "execution_count": 13,
   "id": "accessible-imagination",
   "metadata": {},
   "outputs": [],
   "source": [
    "model = Model('FacilityLocation')"
   ]
  },
  {
   "cell_type": "code",
   "execution_count": 14,
   "id": "nearby-outline",
   "metadata": {},
   "outputs": [],
   "source": [
    "l = {}\n",
    "for i in I:\n",
    "  for p in P:\n",
    "    l[i, p] = model.addVar(vtype=GRB.BINARY, name=f'l[{i},{p}]')"
   ]
  },
  {
   "cell_type": "code",
   "execution_count": 15,
   "id": "surface-question",
   "metadata": {},
   "outputs": [],
   "source": [
    "cost = {}\n",
    "for i in I:\n",
    "  for p in P:\n",
    "    if len(p) == 0:\n",
    "      cost[i, p] = 0\n",
    "    else:\n",
    "      cost[i, p] = f[i] + quicksum(c[i, j] for j in p)"
   ]
  },
  {
   "cell_type": "code",
   "execution_count": 16,
   "id": "solid-commodity",
   "metadata": {},
   "outputs": [],
   "source": [
    "# set objective function\n",
    "model.setObjective(quicksum(cost[i, p] * l[i, p] for i in I for p in P), GRB.MINIMIZE)"
   ]
  },
  {
   "cell_type": "code",
   "execution_count": 17,
   "id": "prerequisite-leather",
   "metadata": {},
   "outputs": [],
   "source": [
    "# add constraints \n",
    "# for facility i in I we exclude the non-feasible pattern, i.e. subsets of customers that cannot be assigned to it\n",
    "# at the same time\n",
    "for i in I:\n",
    "  for p in P:\n",
    "    if sum(b[j] for j in list(p)) > C[i]:\n",
    "      model.addConstr(l[i, p] == 0)"
   ]
  },
  {
   "cell_type": "code",
   "execution_count": 18,
   "id": "efficient-mileage",
   "metadata": {},
   "outputs": [],
   "source": [
    "# for each facility i in I, choose exactly ONE pattern\n",
    "for i in I:\n",
    "  model.addConstr(quicksum(l[i, p] for p in P) == 1)"
   ]
  },
  {
   "cell_type": "code",
   "execution_count": 19,
   "id": "failing-press",
   "metadata": {},
   "outputs": [],
   "source": [
    "# for each customer j in J, choose exactly ONE pattern that asssigns them to a facility\n",
    "for j in J:\n",
    "  model.addConstr(quicksum(l[i, p] for i in I for p in P if j in list(p)) == 1)"
   ]
  },
  {
   "cell_type": "code",
   "execution_count": 20,
   "id": "mineral-starter",
   "metadata": {},
   "outputs": [
    {
     "name": "stdout",
     "output_type": "stream",
     "text": [
      "Gurobi Optimizer version 9.1.1 build v9.1.1rc0 (mac64)\n",
      "Thread count: 2 physical cores, 4 logical processors, using up to 4 threads\n",
      "Optimize a model with 76 rows, 96 columns and 404 nonzeros\n",
      "Model fingerprint: 0x93cc4f12\n",
      "Variable types: 0 continuous, 96 integer (96 binary)\n",
      "Coefficient statistics:\n",
      "  Matrix range     [1e+00, 1e+00]\n",
      "  Objective range  [7e+00, 4e+01]\n",
      "  Bounds range     [1e+00, 1e+00]\n",
      "  RHS range        [1e+00, 1e+00]\n",
      "Presolve removed 76 rows and 96 columns\n",
      "Presolve time: 0.00s\n",
      "Presolve: All rows and columns removed\n",
      "\n",
      "Explored 0 nodes (0 simplex iterations) in 0.05 seconds\n",
      "Thread count was 1 (of 4 available processors)\n",
      "\n",
      "Solution count 1: 42 \n",
      "\n",
      "Optimal solution found (tolerance 1.00e-04)\n",
      "Best objective 4.200000000000e+01, best bound 4.200000000000e+01, gap 0.0000%\n"
     ]
    }
   ],
   "source": [
    "model.update()\n",
    "model.optimize()"
   ]
  },
  {
   "cell_type": "code",
   "execution_count": null,
   "id": "silent-edition",
   "metadata": {},
   "outputs": [],
   "source": []
  }
 ],
 "metadata": {
  "kernelspec": {
   "display_name": "Python 3",
   "language": "python",
   "name": "python3"
  },
  "language_info": {
   "codemirror_mode": {
    "name": "ipython",
    "version": 3
   },
   "file_extension": ".py",
   "mimetype": "text/x-python",
   "name": "python",
   "nbconvert_exporter": "python",
   "pygments_lexer": "ipython3",
   "version": "3.9.1"
  }
 },
 "nbformat": 4,
 "nbformat_minor": 5
}
