{
 "cells": [
  {
   "cell_type": "markdown",
   "id": "bulgarian-guide",
   "metadata": {},
   "source": [
    "# Facility Location with patterns\n",
    "\n",
    "In this task you need to solve the Facility Location Problem using patterns. \n",
    "You are given the following data:\n",
    "\n",
    "* a range $I$ containing the potential locations where a facility can be opened\n",
    "* a range $J$ containing the customers\n",
    "* a tuple $b$ containing the customer demands $b_{j} \\in \\mathbb{Z}_{+}$ for every $j \\in J$\n",
    "* a tuple $f$ containing the opening costs $f_{i} \\in \\mathbb{Z}_{+}$ for each location $i \\in I$\n",
    "* a tuple $C$ containing the capacities $C_{i} \\in \\mathbb{Z}_{+}$ for each location $i \\in I$\n",
    "* a dictionary $c$ containing the connection costs $c_{i, j}$ for connecting facitily $i \\in I$ with customer $j \\in J$\n",
    "* a tuple $P$ containing the power set of $J$\n",
    "\n",
    "Your task is to find a feasible assignment of customers to facilities of minimum total cost, such that:\n",
    "\n",
    "* every customer is assigned to exactly one opened facility\n",
    "* total demand of all customers assigned to a facility $i \\in I$ is at most its capacity $C_{i}$\n",
    "\n",
    "The binary variable $l_{i, p}$ equals to $1$ if the subset of customers $p \\subseteq J$ is assigned to the facility $i \\in I$, otherwise $l_{i, p}$ equals to $0$."
   ]
  },
  {
   "cell_type": "markdown",
   "id": "settled-humanity",
   "metadata": {},
   "source": [
    "For facility $i \\in I$ let $\\mathscr{P}^{i}$ the set of all \"patterns\", i.e. the power set of $J$\n",
    "We define the costs $c_{P}^{i}$ of pattern $P \\in \\mathscr{P}^{i}$ for facility $i \\in I$ by\n",
    "$$c_{P}^{i} := \\left\\{\\begin{array}{ll} f_{i} + \\sum_{j \\in P}{c_{ij}}, & \\text{if } P \\not = \\emptyset \\\\\n",
    "         0, & \\text{if } P = \\emptyset \\end{array}\\right. .$$\n"
   ]
  },
  {
   "cell_type": "code",
   "execution_count": 1,
   "id": "infrared-debate",
   "metadata": {},
   "outputs": [],
   "source": [
    "from gurobipy import *\n",
    "\n",
    "\n",
    "def solve(I, J, b, f, C, c, P):\n",
    "  model = Model('FacilityLocation')\n",
    "\n",
    "  l = {}\n",
    "  for i in I:\n",
    "    for p in P:\n",
    "      l[i, p] = model.addVar(vtype=GRB.BINARY, name=f'l[{i},{p}]')\n",
    "\n",
    "  cost = {}\n",
    "  for i in I:\n",
    "    for p in P:\n",
    "      if len(p) == 0:\n",
    "        cost[i, p] = 0\n",
    "      else:\n",
    "        cost[i, p] = f[i] + quicksum(c[i, j] for j in p)\n",
    "\n",
    "  # set objective function\n",
    "  model.setObjective(quicksum(cost[i, p] * l[i, p] for i in I for p in P), GRB.MINIMIZE)\n",
    "\n",
    "  # add constraints \n",
    "\n",
    "  # for facility i in I we exclude the non-feasible pattern, i.e. subsets of customers that cannot be assigned to it\n",
    "  # at the same time\n",
    "  for i in I:\n",
    "    for p in P:\n",
    "      if sum(b[j] for j in list(p)) > C[i]:\n",
    "        model.addConstr(l[i, p] == 0)\n",
    "\n",
    "  # for each facility i in I, choose exactly ONE pattern\n",
    "  for i in I:\n",
    "    model.addConstr(quicksum(l[i, p] for p in P) == 1)\n",
    "\n",
    "  # for each customer j in J, choose exactly ONE pattern that asssigns them to a facility\n",
    "  for j in J:\n",
    "    model.addConstr(quicksum(l[i, p] for i in I for p in P if j in list(p)) == 1)\n",
    "\n",
    "  model.update()\n",
    "  model.optimize()\n",
    "  \n",
    "  return model"
   ]
  },
  {
   "cell_type": "code",
   "execution_count": null,
   "id": "accessible-imagination",
   "metadata": {},
   "outputs": [],
   "source": []
  },
  {
   "cell_type": "code",
   "execution_count": null,
   "id": "nearby-outline",
   "metadata": {},
   "outputs": [],
   "source": []
  },
  {
   "cell_type": "code",
   "execution_count": null,
   "id": "surface-question",
   "metadata": {},
   "outputs": [],
   "source": []
  }
 ],
 "metadata": {
  "kernelspec": {
   "display_name": "Python 3",
   "language": "python",
   "name": "python3"
  },
  "language_info": {
   "codemirror_mode": {
    "name": "ipython",
    "version": 3
   },
   "file_extension": ".py",
   "mimetype": "text/x-python",
   "name": "python",
   "nbconvert_exporter": "python",
   "pygments_lexer": "ipython3",
   "version": "3.9.1"
  }
 },
 "nbformat": 4,
 "nbformat_minor": 5
}
