{
 "cells": [
  {
   "cell_type": "markdown",
   "id": "bulgarian-guide",
   "metadata": {},
   "source": [
    "# Facility Location with patterns\n",
    "\n",
    "In this task we will solve the Facility Location Problem using patterns. \n",
    "We have the following data:\n",
    "\n",
    "* a range $I$ containing the potential locations where a facility can be opened\n",
    "* a range $J$ containing the customers\n",
    "* a tuple $b$ containing the customer demands $b_{j} \\in \\mathbb{Z}_{+}$ for every $j \\in J$\n",
    "* a tuple $f$ containing the opening costs $f_{i} \\in \\mathbb{Z}_{+}$ for each location $i \\in I$\n",
    "* a tuple $C$ containing the capacities $C_{i} \\in \\mathbb{Z}_{+}$ for each location $i \\in I$\n",
    "* a dictionary $c$ containing the connection costs $c_{i, j}$ for connecting facitily $i \\in I$ with customer $j \\in J$\n",
    "* a tuple $P$ containing the power set of $J$\n",
    "\n",
    "Our task is to find a feasible assignment of customers to facilities of minimum total cost, such that:\n",
    "\n",
    "* every customer is assigned to exactly one opened facility\n",
    "* total demand of all customers assigned to a facility $i \\in I$ is at most its capacity $C_{i}$\n",
    "\n",
    "The binary variable $l_{i, p}$ equals to $1$ if the subset of customers $p \\subseteq J$ is assigned to the facility $i \\in I$, otherwise $l_{i, p}$ equals to $0$."
   ]
  },
  {
   "cell_type": "markdown",
   "id": "meaningful-capability",
   "metadata": {},
   "source": [
    "The cell below imports the necessary libraries. To create our model we need `Gurobi`."
   ]
  },
  {
   "cell_type": "code",
   "execution_count": 6,
   "id": "reasonable-cement",
   "metadata": {},
   "outputs": [],
   "source": [
    "from gurobipy import *\n",
    "from itertools import chain, combinations"
   ]
  },
  {
   "cell_type": "markdown",
   "id": "communist-rouge",
   "metadata": {},
   "source": [
    "## Data\n",
    "\n",
    "We have following data: <br/>\n",
    "`I`: a list of potential locations where a facility can be opened <br/>\n",
    "`J`: a list of customers <br/>\n",
    "`b`: a tuple of customers demands <br/>\n",
    "`f`: a tuple of opening costs <br/>\n",
    "`C`: a tuple of facility capacities <br/>\n",
    "`c`: a dictionary of connection costs <br/>\n",
    "`P`: a tuple of all patterns <br/>"
   ]
  },
  {
   "cell_type": "code",
   "execution_count": 7,
   "id": "offshore-defensive",
   "metadata": {},
   "outputs": [],
   "source": [
    "I = range(3)\n",
    "\n",
    "J = range(5)\n",
    "\n",
    "b = (5, 7, 10, 14, 11)\n",
    "\n",
    "f = (5, 11, 9)\n",
    "\n",
    "C = (10, 20, 20)\n",
    "\n",
    "c = {(0, 0): 2, (0, 1): 7, (0, 2): 7, (0, 3): 8, (0, 4): 8, (1, 0): 7,\n",
    "  (1, 1): 2, (1, 2): 4, (1, 3): 7, (1, 4): 2, (2, 0): 2, (2, 1): 2,\n",
    "  (2, 2): 2, (2, 3): 4, (2, 4): 8}\n",
    "\n",
    "P = tuple(chain.from_iterable(combinations(J, r) for r in range(len(J)+1)))\n",
    "\n",
    "#check\n",
    "assert(len(J) == len(b))\n",
    "assert(len(I) == len(f) == len(C))\n",
    "assert(len(c) == len(I) * len(J))"
   ]
  },
  {
   "cell_type": "markdown",
   "id": "flying-murder",
   "metadata": {},
   "source": [
    "## Model\n",
    "Firstly, we need to create an empty model object `m` in `Gurobi` named `FacilityLocationWithPattern` where we will save all the details of our Facility Location With Pattern Model.<br/>For more details take a look at [Model()](https://www.gurobi.com/documentation/9.0/refman/py_model2.html)."
   ]
  },
  {
   "cell_type": "code",
   "execution_count": 16,
   "id": "accessible-imagination",
   "metadata": {},
   "outputs": [],
   "source": [
    "m = Model('FacilityLocationWithPattern')"
   ]
  },
  {
   "cell_type": "markdown",
   "id": "respected-stack",
   "metadata": {},
   "source": [
    "To decide whether we choose pattern $p$ of customers for location $i$ we introduce for every $i \\in I$ and $p \\in P$ a variable to our model `m`. <br/>For more details take a look at [addVar()](https://www.gurobi.com/documentation/9.0/refman/py_model_addvar.html)."
   ]
  },
  {
   "cell_type": "code",
   "execution_count": 17,
   "id": "nearby-outline",
   "metadata": {},
   "outputs": [],
   "source": [
    "l = {}\n",
    "for i in I:\n",
    "  for p in P:\n",
    "    l[i, p] = m.addVar(vtype=GRB.BINARY, name=f'l[{i},{p}]')"
   ]
  },
  {
   "cell_type": "markdown",
   "id": "downtown-paper",
   "metadata": {},
   "source": [
    "For facility $i \\in I$ let $\\mathscr{P}^{i}$ be the set of all \"patterns\", i.e. $\\mathscr{P}^{i}$ equals the power set of $J$. We define the costs $c_{P}^{i}$ of pattern $P \\in \\mathscr{P}^{i}$ for facility $i \\in I$ by\n",
    "$$c_{P}^{i} := \\left\\{\\begin{array}{ll} f_{i} + \\sum_{j \\in P}{c_{ij}}, & \\text{if } P \\not = \\emptyset \\\\\n",
    "         0, & \\text{if } P = \\emptyset \\end{array}\\right. .$$ <br>\n",
    "The cell below saves these costs in `cost`.\n"
   ]
  },
  {
   "cell_type": "code",
   "execution_count": 10,
   "id": "surface-question",
   "metadata": {},
   "outputs": [],
   "source": [
    "cost = {}\n",
    "for i in I:\n",
    "  for p in P:\n",
    "    if len(p) == 0:\n",
    "      cost[i, p] = 0\n",
    "    else:\n",
    "      cost[i, p] = f[i] + quicksum(c[i, j] for j in p)"
   ]
  },
  {
   "cell_type": "markdown",
   "id": "curious-guess",
   "metadata": {},
   "source": [
    "Now, we can set our objective function to our model `m`. In this case, we create a minimizing problem and for every location $i$ and every pattern $p$, we multiply `l[i, p]` with its costs `cost[i, p]`. <br>\n",
    "For more details take a look at [setObjective()](https://www.gurobi.com/documentation/9.0/refman/py_model_setobjective.html)."
   ]
  },
  {
   "cell_type": "code",
   "execution_count": 18,
   "id": "statewide-liquid",
   "metadata": {},
   "outputs": [],
   "source": [
    "m.setObjective(quicksum(cost[i, p] * l[i, p] for i in I for p in P), GRB.MINIMIZE)"
   ]
  },
  {
   "cell_type": "markdown",
   "id": "insured-florida",
   "metadata": {},
   "source": [
    "## Constraints\n",
    "For facility $i \\in I$, we exclude the non-feasible pattern, i.e. the subsets of customers that cannot be assigned to it at the same time. <br> "
   ]
  },
  {
   "cell_type": "code",
   "execution_count": 19,
   "id": "plastic-throw",
   "metadata": {},
   "outputs": [],
   "source": [
    "for i in I:\n",
    "  for p in P:\n",
    "    if sum(b[j] for j in list(p)) > C[i]:\n",
    "      m.addConstr(l[i, p] == 0)"
   ]
  },
  {
   "cell_type": "markdown",
   "id": "moral-faith",
   "metadata": {},
   "source": [
    "For each facility $i \\in I$, we choose exactly one pattern."
   ]
  },
  {
   "cell_type": "code",
   "execution_count": 24,
   "id": "cathedral-bloom",
   "metadata": {},
   "outputs": [],
   "source": [
    "for i in I:\n",
    "  m.addConstr(quicksum(l[i, p] for p in P) == 1)"
   ]
  },
  {
   "cell_type": "markdown",
   "id": "greatest-rainbow",
   "metadata": {},
   "source": [
    "For each customer $j \\in J$, we choose exactly one pattern that assigns them to a facility."
   ]
  },
  {
   "cell_type": "code",
   "execution_count": 25,
   "id": "frozen-controversy",
   "metadata": {},
   "outputs": [],
   "source": [
    "for j in J:\n",
    "  m.addConstr(quicksum(l[i, p] for i in I for p in P if j in list(p)) == 1)"
   ]
  },
  {
   "cell_type": "code",
   "execution_count": 26,
   "id": "therapeutic-gamma",
   "metadata": {},
   "outputs": [
    {
     "name": "stdout",
     "output_type": "stream",
     "text": [
      "Gurobi Optimizer version 9.1.1 build v9.1.1rc0 (mac64)\n",
      "Thread count: 2 physical cores, 4 logical processors, using up to 4 threads\n",
      "Optimize a model with 84 rows, 96 columns and 740 nonzeros\n",
      "Model fingerprint: 0x6f5cfdbf\n",
      "Variable types: 0 continuous, 96 integer (96 binary)\n",
      "Coefficient statistics:\n",
      "  Matrix range     [1e+00, 1e+00]\n",
      "  Objective range  [7e+00, 4e+01]\n",
      "  Bounds range     [1e+00, 1e+00]\n",
      "  RHS range        [1e+00, 1e+00]\n",
      "\n",
      "Loaded MIP start from previous solve with objective 42\n",
      "\n",
      "Presolve removed 84 rows and 96 columns\n",
      "Presolve time: 0.00s\n",
      "Presolve: All rows and columns removed\n",
      "\n",
      "Explored 0 nodes (0 simplex iterations) in 0.05 seconds\n",
      "Thread count was 1 (of 4 available processors)\n",
      "\n",
      "Solution count 1: 42 \n",
      "\n",
      "Optimal solution found (tolerance 1.00e-04)\n",
      "Best objective 4.200000000000e+01, best bound 4.200000000000e+01, gap 0.0000%\n"
     ]
    }
   ],
   "source": [
    "m.update()\n",
    "m.optimize()"
   ]
  },
  {
   "cell_type": "code",
   "execution_count": null,
   "id": "apart-interference",
   "metadata": {},
   "outputs": [],
   "source": []
  }
 ],
 "metadata": {
  "kernelspec": {
   "display_name": "Python 3",
   "language": "python",
   "name": "python3"
  },
  "language_info": {
   "codemirror_mode": {
    "name": "ipython",
    "version": 3
   },
   "file_extension": ".py",
   "mimetype": "text/x-python",
   "name": "python",
   "nbconvert_exporter": "python",
   "pygments_lexer": "ipython3",
   "version": "3.9.1"
  }
 },
 "nbformat": 4,
 "nbformat_minor": 5
}
